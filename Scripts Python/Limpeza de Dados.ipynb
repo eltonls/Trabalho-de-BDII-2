{
 "cells": [
  {
   "cell_type": "markdown",
   "id": "c95cd59f-fbac-4a6d-8922-a669cfe0701b",
   "metadata": {},
   "source": [
    "# Limpeza dos Dados"
   ]
  },
  {
   "cell_type": "code",
   "execution_count": null,
   "id": "63019559-7f44-453f-b64b-cfb4547263a8",
   "metadata": {},
   "outputs": [],
   "source": [
    "# Importando bibliotecas\n",
    "import pandas as pd\n",
    "from sqlalchemy import create_engine\n",
    "\n",
    "server_name = 'DESKTOP-QNGLT5G'\n",
    "database_name = 'Financeiro'\n",
    "\n",
    "# Configuração da string de conexão SQLAlchemy com autenticação do Windows\n",
    "conexao_sql = f'mssql+pyodbc://{server_name}/{database_name}?trusted_connection=yes&driver=ODBC+Driver+17+for+SQL+Server'\n",
    "\n",
    "# Carregando dados do SQL Server para um DataFrame Pandas\n",
    "consulta_sql = \"SELECT * FROM tb_execucao_financeira\"\n",
    "df = pd.read_sql(consulta_sql, conexao_sql)\n",
    "\n",
    "# 1. Tratamento de Dados Nulos\n",
    "df = df.drop(['dsc_modalidade_licitacao', 'cod_item_grupo', 'dth_liquidacao'], axis=1)\n",
    "df['dsc_orgao'].fillna('Desconhecido', inplace=True)\n",
    "df['cod_fonte'].fillna(df['cod_fonte'].mode()[0], inplace=True)\n",
    "\n",
    "# 2. Remoção de Colunas Desnecessárias\n",
    "df = df.drop(['vlr_liquidado'], axis=1)\n",
    "\n",
    "# 3. Conversão de Tipos de Dados\n",
    "df['vlr_empenho'] = pd.to_numeric(df['vlr_empenho'], errors='coerce')\n",
    "\n",
    "# 4. Remoção de Duplicatas\n",
    "df = df.drop_duplicates()\n",
    "\n",
    "# 5. Tratamento de Datas\n",
    "df['dth_empenho'] = pd.to_datetime(df['dth_empenho'])\n",
    "df['dth_pagamento'] = pd.to_datetime(df['dth_pagamento'])\n",
    "df['dth_processamento'] = pd.to_datetime(df['dth_processamento'])\n",
    "\n",
    "# Verificando novamente as informações\n",
    "print(df.info())\n",
    "\n",
    "# Salvar o DataFrame limpo para uma nova tabela no banco de dados\n",
    "df.to_sql('tb_transacao_financeira', conexao_sql, index=False, if_exists='replace')\n"
   ]
  },
  {
   "cell_type": "markdown",
   "id": "178dbe83-ff4f-4186-aaeb-eed113768df0",
   "metadata": {},
   "source": [
    "Após o uso do código acima, nós podemos ver uma diferenciação na nossa base de dados, deletando duplicatas, valores null e etc."
   ]
  },
  {
   "cell_type": "code",
   "execution_count": null,
   "id": "a214343f-b731-40d5-83f6-f3f84a1846ee",
   "metadata": {},
   "outputs": [],
   "source": [
    "<class 'pandas.core.frame.DataFrame'>\n",
    "RangeIndex: 2025116 entries, 0 to 2025115\n",
    "Data columns (total 33 columns):\n",
    " #   Column               Dtype         \n",
    "---  ------               -----         \n",
    " 0   id                   int64         \n",
    " 1   num_ano              int64         \n",
    " 2   cod_ne               object        \n",
    " 3   codigo_orgao         object        \n",
    " 4   dsc_orgao            object        \n",
    " 5   cod_credor           object        \n",
    " 6   dsc_nome_credor      object        \n",
    " 7   cod_fonte            object        \n",
    " 8   dsc_fonte            object        \n",
    " 9   cod_funcao           object        \n",
    " 10  dsc_funcao           object        \n",
    " 11  cod_item             object        \n",
    " 12  dsc_item             object        \n",
    " 13  cod_item_elemento    object        \n",
    " 14  dsc_item_elemento    object        \n",
    " 15  cod_item_categoria   object        \n",
    " 16  dsc_item_categoria   object        \n",
    " 17  dsc_item_grupo       object        \n",
    " 18  cod_item_modalidade  int64         \n",
    " 19  dsc_item_modalidade  object        \n",
    " 20  cod_programa         object        \n",
    " 21  dsc_programa         object        \n",
    " 22  cod_subfuncao        object        \n",
    " 23  dsc_subfuncao        object        \n",
    " 24  num_sic              object        \n",
    " 25  cod_np               object        \n",
    " 26  vlr_empenho          float64       \n",
    " 27  valor_pago           float64       \n",
    " 28  vlr_resto_pagar      float64       \n",
    " 29  dth_empenho          datetime64[ns]\n",
    " 30  dth_pagamento        datetime64[ns]\n",
    " 31  dth_processamento    datetime64[ns]\n",
    " 32  num_ano_np           float64       \n",
    "dtypes: datetime64[ns](3), float64(4), int64(3), object(23)\n",
    "memory usage: 509.9+ MB\n",
    "None"
   ]
  }
 ],
 "metadata": {
  "kernelspec": {
   "display_name": "Python 3 (ipykernel)",
   "language": "python",
   "name": "python3"
  },
  "language_info": {
   "codemirror_mode": {
    "name": "ipython",
    "version": 3
   },
   "file_extension": ".py",
   "mimetype": "text/x-python",
   "name": "python",
   "nbconvert_exporter": "python",
   "pygments_lexer": "ipython3",
   "version": "3.9.13"
  }
 },
 "nbformat": 4,
 "nbformat_minor": 5
}
